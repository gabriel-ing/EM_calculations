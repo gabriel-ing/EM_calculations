{
 "cells": [
  {
   "cell_type": "code",
   "execution_count": 1,
   "id": "a26f0669",
   "metadata": {},
   "outputs": [],
   "source": [
    "import math  "
   ]
  },
  {
   "cell_type": "code",
   "execution_count": 19,
   "id": "06923381",
   "metadata": {},
   "outputs": [
    {
     "name": "stdout",
     "output_type": "stream",
     "text": [
      "Translational diffusion coefficient =  3.576831895349472e-11 m^2s^-1\n",
      "Translational diffusion coefficient =  35.76831895349472 µm^2s^-1\n",
      "Rotational diffusion coefficient =  745173.31153114 s^-1\n",
      "Rotational relaxation time =  1.3419696928560907e-06 seconds\n"
     ]
    }
   ],
   "source": [
    "boltzmann = 1.380649e-23 # units = J/K\n",
    "temperature = 293 # Temperature in Kelvin \n",
    "dynamic_viscosity = 1e-3 # dynamic viscosity in kg/m.s\n",
    "radius = 6e-9 # Radius in m \n",
    "\n",
    "\n",
    "\n",
    "diffusion_coefficient_translational = (boltzmann*temperature)/(6*math.pi * dynamic_viscosity * radius)\n",
    "diffusion_coefficient_rotational = (boltzmann*temperature)/(8*math.pi * dynamic_viscosity * (radius**3))\n",
    "rotational_relaxational_time = 1/diffusion_coefficient_rotational\n",
    "print('Translational diffusion coefficient = ', diffusion_coefficient_translational,'m^2s^-1')\n",
    "print('Translational diffusion coefficient = ', diffusion_coefficient_translational*1e+12,'µm^2s^-1')\n",
    "print('Rotational diffusion coefficient = ', diffusion_coefficient_rotational, 's^-1')\n",
    "print('Rotational relaxation time = ',rotational_relaxational_time,'seconds')"
   ]
  }
 ],
 "metadata": {
  "kernelspec": {
   "display_name": "Python 3",
   "language": "python",
   "name": "python3"
  },
  "language_info": {
   "codemirror_mode": {
    "name": "ipython",
    "version": 3
   },
   "file_extension": ".py",
   "mimetype": "text/x-python",
   "name": "python",
   "nbconvert_exporter": "python",
   "pygments_lexer": "ipython3",
   "version": "3.8.8"
  }
 },
 "nbformat": 4,
 "nbformat_minor": 5
}
